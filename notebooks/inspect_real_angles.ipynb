{
 "cells": [
  {
   "cell_type": "code",
   "execution_count": null,
   "id": "307607d7",
   "metadata": {},
   "outputs": [
    {
     "ename": "ModuleNotFoundError",
     "evalue": "No module named 'src'",
     "output_type": "error",
     "traceback": [
      "\u001b[1;31m---------------------------------------------------------------------------\u001b[0m",
      "\u001b[1;31mModuleNotFoundError\u001b[0m                       Traceback (most recent call last)",
      "Cell \u001b[1;32mIn[4], line 19\u001b[0m\n\u001b[0;32m     15\u001b[0m     sys\u001b[38;5;241m.\u001b[39mpath\u001b[38;5;241m.\u001b[39minsert(\u001b[38;5;241m0\u001b[39m, src_path)\n\u001b[0;32m     16\u001b[0m \u001b[38;5;66;03m# --- FIN DE LA SOLUCIÓN ---\u001b[39;00m\n\u001b[0;32m     17\u001b[0m \n\u001b[0;32m     18\u001b[0m \u001b[38;5;66;03m# 3. Ahora la importación funcionará correctamente\u001b[39;00m\n\u001b[1;32m---> 19\u001b[0m \u001b[38;5;28;01mfrom\u001b[39;00m\u001b[38;5;250m \u001b[39m\u001b[38;5;21;01msrc\u001b[39;00m\u001b[38;5;250m \u001b[39m\u001b[38;5;28;01mimport\u001b[39;00m config \n\u001b[0;32m     21\u001b[0m \u001b[38;5;66;03m# 4. Cargar los datos generados por la app\u001b[39;00m\n\u001b[0;32m     22\u001b[0m \u001b[38;5;66;03m# (Asegúrate de que la ruta al CSV es correcta)\u001b[39;00m\n\u001b[0;32m     23\u001b[0m metrics_path \u001b[38;5;241m=\u001b[39m os\u001b[38;5;241m.\u001b[39mpath\u001b[38;5;241m.\u001b[39mjoin(project_root, \u001b[38;5;124m'\u001b[39m\u001b[38;5;124mdata\u001b[39m\u001b[38;5;124m'\u001b[39m, \u001b[38;5;124m'\u001b[39m\u001b[38;5;124mprocessed\u001b[39m\u001b[38;5;124m'\u001b[39m, \u001b[38;5;124m'\u001b[39m\u001b[38;5;124m2_Sq_Frontal_Sin_Camiseta\u001b[39m\u001b[38;5;124m'\u001b[39m, \u001b[38;5;124m'\u001b[39m\u001b[38;5;124m2_Sq_Frontal_Sin_Camiseta_2_metrics.csv\u001b[39m\u001b[38;5;124m'\u001b[39m)\n",
      "\u001b[1;31mModuleNotFoundError\u001b[0m: No module named 'src'"
     ]
    }
   ],
   "source": [
    "import pandas as pd\n",
    "import matplotlib.pyplot as plt\n",
    "import sys\n",
    "import os\n",
    "\n",
    "# --- INICIO DE LA SOLUCIÓN ---\n",
    "# 1. Encontrar la ruta raíz del proyecto dinámicamente\n",
    "# Sube un nivel desde la carpeta 'notebooks' para llegar a 'gym-performance-analysis'\n",
    "project_root = os.path.abspath(os.path.join(os.getcwd(), '..'))\n",
    "\n",
    "# 2. Añadir la ruta de 'src' al path de Python\n",
    "# Esto permite que el notebook encuentre el módulo 'src'\n",
    "src_path = os.path.join(project_root, 'src')\n",
    "if src_path not in sys.path:\n",
    "    sys.path.insert(0, src_path)\n",
    "# --- FIN DE LA SOLUCIÓN ---\n",
    "\n",
    "# 3. Ahora la importación funcionará correctamente\n",
    "from src import config \n",
    "\n",
    "# 4. Cargar los datos generados por la app\n",
    "# (Asegúrate de que la ruta al CSV es correcta)\n",
    "metrics_path = os.path.join(project_root, 'data', 'processed', '2_Sq_Frontal_Sin_Camiseta', '2_Sq_Frontal_Sin_Camiseta_2_metrics.csv')\n",
    "try:\n",
    "    df = pd.read_csv(metrics_path)\n",
    "except FileNotFoundError:\n",
    "    print(f\"ERROR: No se encontró el archivo en la ruta:\\n{metrics_path}\")\n",
    "    print(\"Asegúrate de que el análisis se ha ejecutado en 'Modo Depuración'.\")\n",
    "    # Detener la ejecución de la celda si el archivo no existe\n",
    "    df = pd.DataFrame() \n",
    "\n",
    "if not df.empty:\n",
    "    # 5. SUAVIZAR LA SEÑAL\n",
    "    df['rodilla_izq_suave'] = df['rodilla_izq'].rolling(window=5, center=True, min_periods=1).mean()\n",
    "\n",
    "    # 6. Visualizar los datos\n",
    "    plt.figure(figsize=(15, 6))\n",
    "    plt.plot(df['frame_idx'], df['rodilla_izq'], label='Ángulo Rodilla Izq (Raw)', alpha=0.5)\n",
    "    plt.plot(df['frame_idx'], df['rodilla_izq_suave'], label='Ángulo Rodilla Izq (Suavizado)', color='red', linewidth=2)\n",
    "\n",
    "    plt.axhline(y=config.SQUAT_HIGH_THRESH, color='g', linestyle='--', label=f'Umbral Alto ({config.SQUAT_HIGH_THRESH}°)')\n",
    "    plt.axhline(y=config.SQUAT_LOW_THRESH, color='orange', linestyle='--', label=f'Umbral Bajo ({config.SQUAT_LOW_THRESH}°)')\n",
    "\n",
    "    plt.title('Análisis de Ángulo de Rodilla para Sentadilla')\n",
    "    plt.xlabel('Fotograma')\n",
    "    plt.ylabel('Ángulo (grados)')\n",
    "    plt.legend()\n",
    "    plt.grid(True)\n",
    "    plt.show()\n",
    "\n",
    "    # 7. Imprimir estadísticas para ver los valores reales\n",
    "    print(\"Estadísticas del ángulo suavizado:\")\n",
    "    print(df['rodilla_izq_suave'].describe())"
   ]
  }
 ],
 "metadata": {
  "kernelspec": {
   "display_name": "gym_performance_env",
   "language": "python",
   "name": "python3"
  },
  "language_info": {
   "codemirror_mode": {
    "name": "ipython",
    "version": 3
   },
   "file_extension": ".py",
   "mimetype": "text/x-python",
   "name": "python",
   "nbconvert_exporter": "python",
   "pygments_lexer": "ipython3",
   "version": "3.10.8"
  }
 },
 "nbformat": 4,
 "nbformat_minor": 5
}
